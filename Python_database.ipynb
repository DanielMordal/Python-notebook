{
 "cells": [
  {
   "cell_type": "code",
   "execution_count": 1,
   "id": "a41267d6-4ff6-4425-a7b3-f99472d70cc3",
   "metadata": {},
   "outputs": [],
   "source": [
    "import pandas as pd"
   ]
  },
  {
   "cell_type": "code",
   "execution_count": 2,
   "id": "643c69c0",
   "metadata": {},
   "outputs": [],
   "source": [
    "#Załadowanie danych z podanego pliku"
   ]
  },
  {
   "cell_type": "code",
   "execution_count": 3,
   "id": "005a305f-6f12-475c-bb9f-5ef548afce19",
   "metadata": {},
   "outputs": [
    {
     "data": {
      "text/html": [
       "<div>\n",
       "<style scoped>\n",
       "    .dataframe tbody tr th:only-of-type {\n",
       "        vertical-align: middle;\n",
       "    }\n",
       "\n",
       "    .dataframe tbody tr th {\n",
       "        vertical-align: top;\n",
       "    }\n",
       "\n",
       "    .dataframe thead th {\n",
       "        text-align: right;\n",
       "    }\n",
       "</style>\n",
       "<table border=\"1\" class=\"dataframe\">\n",
       "  <thead>\n",
       "    <tr style=\"text-align: right;\">\n",
       "      <th></th>\n",
       "      <th>dataStream;rowCount;probingTimestamp</th>\n",
       "    </tr>\n",
       "  </thead>\n",
       "  <tbody>\n",
       "    <tr>\n",
       "      <th>0</th>\n",
       "      <td>BCL_TaskCreation;315349655;2020-01-13 09:33:00...</td>\n",
       "    </tr>\n",
       "    <tr>\n",
       "      <th>1</th>\n",
       "      <td>BCL_TaskCreation;315349655;2020-01-13 09:34:00...</td>\n",
       "    </tr>\n",
       "    <tr>\n",
       "      <th>2</th>\n",
       "      <td>BCL_TaskCreation;314533770;2020-01-11 01:18:00...</td>\n",
       "    </tr>\n",
       "    <tr>\n",
       "      <th>3</th>\n",
       "      <td>BCL_TaskCreation;289249872;2020-04-05 16:10:00...</td>\n",
       "    </tr>\n",
       "    <tr>\n",
       "      <th>4</th>\n",
       "      <td>BCL_TaskCreation;289249872;2020-04-05 16:11:00...</td>\n",
       "    </tr>\n",
       "    <tr>\n",
       "      <th>...</th>\n",
       "      <td>...</td>\n",
       "    </tr>\n",
       "    <tr>\n",
       "      <th>160730</th>\n",
       "      <td>BCL_TaskCreation;289702842;2020-05-02 04:43:00...</td>\n",
       "    </tr>\n",
       "    <tr>\n",
       "      <th>160731</th>\n",
       "      <td>BCL_TaskCreation;289702943;2020-05-02 07:26:01...</td>\n",
       "    </tr>\n",
       "    <tr>\n",
       "      <th>160732</th>\n",
       "      <td>BCL_TaskCreation;289702883;2020-05-02 06:10:00...</td>\n",
       "    </tr>\n",
       "    <tr>\n",
       "      <th>160733</th>\n",
       "      <td>BCL_TaskCreation;289702842;2020-05-02 04:18:00...</td>\n",
       "    </tr>\n",
       "    <tr>\n",
       "      <th>160734</th>\n",
       "      <td>BCL_TaskCreation;289702883;2020-05-02 06:11:00...</td>\n",
       "    </tr>\n",
       "  </tbody>\n",
       "</table>\n",
       "<p>160735 rows × 1 columns</p>\n",
       "</div>"
      ],
      "text/plain": [
       "                     dataStream;rowCount;probingTimestamp\n",
       "0       BCL_TaskCreation;315349655;2020-01-13 09:33:00...\n",
       "1       BCL_TaskCreation;315349655;2020-01-13 09:34:00...\n",
       "2       BCL_TaskCreation;314533770;2020-01-11 01:18:00...\n",
       "3       BCL_TaskCreation;289249872;2020-04-05 16:10:00...\n",
       "4       BCL_TaskCreation;289249872;2020-04-05 16:11:00...\n",
       "...                                                   ...\n",
       "160730  BCL_TaskCreation;289702842;2020-05-02 04:43:00...\n",
       "160731  BCL_TaskCreation;289702943;2020-05-02 07:26:01...\n",
       "160732  BCL_TaskCreation;289702883;2020-05-02 06:10:00...\n",
       "160733  BCL_TaskCreation;289702842;2020-05-02 04:18:00...\n",
       "160734  BCL_TaskCreation;289702883;2020-05-02 06:11:00...\n",
       "\n",
       "[160735 rows x 1 columns]"
      ]
     },
     "execution_count": 3,
     "metadata": {},
     "output_type": "execute_result"
    }
   ],
   "source": [
    "pd.read_csv('BCL_TaskCreation.csv')"
   ]
  },
  {
   "cell_type": "markdown",
   "id": "3fdd2749",
   "metadata": {},
   "source": [
    "# Problem 1 - dane nie są rozdzielone przecinkiem, należy wprowadzić dodatkowy parametr"
   ]
  },
  {
   "cell_type": "code",
   "execution_count": 4,
   "id": "ecddc6e4-7bba-4fa6-91a5-2f40e2f79ca1",
   "metadata": {},
   "outputs": [
    {
     "data": {
      "text/html": [
       "<div>\n",
       "<style scoped>\n",
       "    .dataframe tbody tr th:only-of-type {\n",
       "        vertical-align: middle;\n",
       "    }\n",
       "\n",
       "    .dataframe tbody tr th {\n",
       "        vertical-align: top;\n",
       "    }\n",
       "\n",
       "    .dataframe thead th {\n",
       "        text-align: right;\n",
       "    }\n",
       "</style>\n",
       "<table border=\"1\" class=\"dataframe\">\n",
       "  <thead>\n",
       "    <tr style=\"text-align: right;\">\n",
       "      <th></th>\n",
       "      <th>dataStream</th>\n",
       "      <th>rowCount</th>\n",
       "      <th>probingTimestamp</th>\n",
       "    </tr>\n",
       "  </thead>\n",
       "  <tbody>\n",
       "    <tr>\n",
       "      <th>0</th>\n",
       "      <td>BCL_TaskCreation</td>\n",
       "      <td>315349655</td>\n",
       "      <td>2020-01-13 09:33:00.497</td>\n",
       "    </tr>\n",
       "    <tr>\n",
       "      <th>1</th>\n",
       "      <td>BCL_TaskCreation</td>\n",
       "      <td>315349655</td>\n",
       "      <td>2020-01-13 09:34:00.157</td>\n",
       "    </tr>\n",
       "    <tr>\n",
       "      <th>2</th>\n",
       "      <td>BCL_TaskCreation</td>\n",
       "      <td>314533770</td>\n",
       "      <td>2020-01-11 01:18:00.143</td>\n",
       "    </tr>\n",
       "    <tr>\n",
       "      <th>3</th>\n",
       "      <td>BCL_TaskCreation</td>\n",
       "      <td>289249872</td>\n",
       "      <td>2020-04-05 16:10:00.333</td>\n",
       "    </tr>\n",
       "    <tr>\n",
       "      <th>4</th>\n",
       "      <td>BCL_TaskCreation</td>\n",
       "      <td>289249872</td>\n",
       "      <td>2020-04-05 16:11:00.883</td>\n",
       "    </tr>\n",
       "    <tr>\n",
       "      <th>...</th>\n",
       "      <td>...</td>\n",
       "      <td>...</td>\n",
       "      <td>...</td>\n",
       "    </tr>\n",
       "    <tr>\n",
       "      <th>160730</th>\n",
       "      <td>BCL_TaskCreation</td>\n",
       "      <td>289702842</td>\n",
       "      <td>2020-05-02 04:43:00.767</td>\n",
       "    </tr>\n",
       "    <tr>\n",
       "      <th>160731</th>\n",
       "      <td>BCL_TaskCreation</td>\n",
       "      <td>289702943</td>\n",
       "      <td>2020-05-02 07:26:01.040</td>\n",
       "    </tr>\n",
       "    <tr>\n",
       "      <th>160732</th>\n",
       "      <td>BCL_TaskCreation</td>\n",
       "      <td>289702883</td>\n",
       "      <td>2020-05-02 06:10:00.157</td>\n",
       "    </tr>\n",
       "    <tr>\n",
       "      <th>160733</th>\n",
       "      <td>BCL_TaskCreation</td>\n",
       "      <td>289702842</td>\n",
       "      <td>2020-05-02 04:18:00.117</td>\n",
       "    </tr>\n",
       "    <tr>\n",
       "      <th>160734</th>\n",
       "      <td>BCL_TaskCreation</td>\n",
       "      <td>289702883</td>\n",
       "      <td>2020-05-02 06:11:00.597</td>\n",
       "    </tr>\n",
       "  </tbody>\n",
       "</table>\n",
       "<p>160735 rows × 3 columns</p>\n",
       "</div>"
      ],
      "text/plain": [
       "              dataStream   rowCount         probingTimestamp\n",
       "0       BCL_TaskCreation  315349655  2020-01-13 09:33:00.497\n",
       "1       BCL_TaskCreation  315349655  2020-01-13 09:34:00.157\n",
       "2       BCL_TaskCreation  314533770  2020-01-11 01:18:00.143\n",
       "3       BCL_TaskCreation  289249872  2020-04-05 16:10:00.333\n",
       "4       BCL_TaskCreation  289249872  2020-04-05 16:11:00.883\n",
       "...                  ...        ...                      ...\n",
       "160730  BCL_TaskCreation  289702842  2020-05-02 04:43:00.767\n",
       "160731  BCL_TaskCreation  289702943  2020-05-02 07:26:01.040\n",
       "160732  BCL_TaskCreation  289702883  2020-05-02 06:10:00.157\n",
       "160733  BCL_TaskCreation  289702842  2020-05-02 04:18:00.117\n",
       "160734  BCL_TaskCreation  289702883  2020-05-02 06:11:00.597\n",
       "\n",
       "[160735 rows x 3 columns]"
      ]
     },
     "execution_count": 4,
     "metadata": {},
     "output_type": "execute_result"
    }
   ],
   "source": [
    "pd.read_csv('BCL_TaskCreation.csv', delimiter = ';')"
   ]
  },
  {
   "cell_type": "code",
   "execution_count": 5,
   "id": "1d0c9097",
   "metadata": {},
   "outputs": [],
   "source": [
    "#Sprawdzenie podstawowych informacji o danych oraz o wykorzystaniu pamięci"
   ]
  },
  {
   "cell_type": "code",
   "execution_count": 6,
   "id": "dce72b76-27b3-4258-99eb-9a61992c64e5",
   "metadata": {},
   "outputs": [
    {
     "name": "stdout",
     "output_type": "stream",
     "text": [
      "<class 'pandas.core.frame.DataFrame'>\n",
      "RangeIndex: 160735 entries, 0 to 160734\n",
      "Data columns (total 3 columns):\n",
      " #   Column            Non-Null Count   Dtype \n",
      "---  ------            --------------   ----- \n",
      " 0   dataStream        160735 non-null  object\n",
      " 1   rowCount          160735 non-null  int64 \n",
      " 2   probingTimestamp  160735 non-null  object\n",
      "dtypes: int64(1), object(2)\n",
      "memory usage: 24.7 MB\n"
     ]
    }
   ],
   "source": [
    "pd.read_csv('BCL_TaskCreation.csv', delimiter = ';').info(memory_usage = 'deep')"
   ]
  },
  {
   "cell_type": "markdown",
   "id": "44ea7583",
   "metadata": {},
   "source": [
    "# Problem 2 - nieprawidłowy typ danych dla daty "
   ]
  },
  {
   "cell_type": "code",
   "execution_count": 7,
   "id": "9bb9051b-a65a-447e-a80e-1fa96ef143ca",
   "metadata": {},
   "outputs": [
    {
     "name": "stdout",
     "output_type": "stream",
     "text": [
      "<class 'pandas.core.frame.DataFrame'>\n",
      "RangeIndex: 160735 entries, 0 to 160734\n",
      "Data columns (total 3 columns):\n",
      " #   Column            Non-Null Count   Dtype         \n",
      "---  ------            --------------   -----         \n",
      " 0   dataStream        160735 non-null  object        \n",
      " 1   rowCount          160735 non-null  int64         \n",
      " 2   probingTimestamp  160735 non-null  datetime64[ns]\n",
      "dtypes: datetime64[ns](1), int64(1), object(1)\n",
      "memory usage: 13.6 MB\n"
     ]
    }
   ],
   "source": [
    "pd.read_csv('BCL_TaskCreation.csv', delimiter = ';', parse_dates = ['probingTimestamp']).info(memory_usage = 'deep')"
   ]
  },
  {
   "cell_type": "code",
   "execution_count": 8,
   "id": "90d2dbb5",
   "metadata": {},
   "outputs": [],
   "source": [
    "# Dzięki zmianie typu danych, zużycie pamięci zmniejszyło się o 45%"
   ]
  },
  {
   "cell_type": "code",
   "execution_count": 9,
   "id": "b7c19217",
   "metadata": {},
   "outputs": [],
   "source": [
    "# Dane zostały poprawnie załadowane, można przypisać je do zmiennej"
   ]
  },
  {
   "cell_type": "code",
   "execution_count": 10,
   "id": "7d470869-68ad-4ae7-84e7-4410490be3be",
   "metadata": {},
   "outputs": [],
   "source": [
    "df = pd.read_csv('BCL_TaskCreation.csv', delimiter = ';',parse_dates = ['probingTimestamp'])"
   ]
  },
  {
   "cell_type": "code",
   "execution_count": 11,
   "id": "f256154d",
   "metadata": {},
   "outputs": [],
   "source": [
    "# Sprawdzenie liczby unikalnych wartości w kolumnach dataStream oraz rowCount w celu możliwej zmiany typu danych z object na category"
   ]
  },
  {
   "cell_type": "code",
   "execution_count": 12,
   "id": "99e18827",
   "metadata": {},
   "outputs": [
    {
     "data": {
      "text/plain": [
       "dataStream                  object\n",
       "rowCount                     int64\n",
       "probingTimestamp    datetime64[ns]\n",
       "dtype: object"
      ]
     },
     "execution_count": 12,
     "metadata": {},
     "output_type": "execute_result"
    }
   ],
   "source": [
    "df.dtypes"
   ]
  },
  {
   "cell_type": "code",
   "execution_count": 13,
   "id": "79256135-6d51-40f7-a38e-3071e33de2be",
   "metadata": {},
   "outputs": [
    {
     "data": {
      "text/plain": [
       "1"
      ]
     },
     "execution_count": 13,
     "metadata": {},
     "output_type": "execute_result"
    }
   ],
   "source": [
    "df['dataStream'].nunique()"
   ]
  },
  {
   "cell_type": "markdown",
   "id": "a18aceae",
   "metadata": {},
   "source": [
    "# Problem 3 - wartość w kolumnie dataStream jest jednakowa dla wszystkich wierszy. W celu dalszej optymalizacji kolumna zostanie usunięta"
   ]
  },
  {
   "cell_type": "code",
   "execution_count": 14,
   "id": "dda8bc4e-6617-49fc-bfbe-f88a4dc12759",
   "metadata": {},
   "outputs": [],
   "source": [
    "df.drop(columns = ['dataStream'], inplace = True)"
   ]
  },
  {
   "cell_type": "code",
   "execution_count": 15,
   "id": "841fae8f",
   "metadata": {},
   "outputs": [
    {
     "data": {
      "text/plain": [
       "6612"
      ]
     },
     "execution_count": 15,
     "metadata": {},
     "output_type": "execute_result"
    }
   ],
   "source": [
    "df['rowCount'].nunique()"
   ]
  },
  {
   "cell_type": "code",
   "execution_count": 16,
   "id": "0ab0aa6a",
   "metadata": {},
   "outputs": [],
   "source": [
    "# Typ danych kolumny rowCount może być zmieniony na cateogry"
   ]
  },
  {
   "cell_type": "code",
   "execution_count": 17,
   "id": "f8b21bab-357d-4ad7-a75d-cc1055e71e6e",
   "metadata": {},
   "outputs": [],
   "source": [
    "df['rowCount'] = df['rowCount'].astype('category')"
   ]
  },
  {
   "cell_type": "code",
   "execution_count": 18,
   "id": "e2fea738",
   "metadata": {},
   "outputs": [],
   "source": [
    "# Ponowne wyświetlenie informacji o danych"
   ]
  },
  {
   "cell_type": "code",
   "execution_count": 19,
   "id": "ed5e1221-041f-4b79-bcb6-5af29d003169",
   "metadata": {},
   "outputs": [
    {
     "name": "stdout",
     "output_type": "stream",
     "text": [
      "<class 'pandas.core.frame.DataFrame'>\n",
      "RangeIndex: 160735 entries, 0 to 160734\n",
      "Data columns (total 2 columns):\n",
      " #   Column            Non-Null Count   Dtype         \n",
      "---  ------            --------------   -----         \n",
      " 0   rowCount          160735 non-null  category      \n",
      " 1   probingTimestamp  160735 non-null  datetime64[ns]\n",
      "dtypes: category(1), datetime64[ns](1)\n",
      "memory usage: 1.8 MB\n"
     ]
    }
   ],
   "source": [
    "df.info(memory_usage = 'deep')"
   ]
  },
  {
   "cell_type": "code",
   "execution_count": 20,
   "id": "c3884470",
   "metadata": {},
   "outputs": [],
   "source": [
    "# Zużycie danych zostało zmniejszone o 93% względem początkowego stanu"
   ]
  },
  {
   "cell_type": "code",
   "execution_count": 21,
   "id": "9b54130a",
   "metadata": {},
   "outputs": [],
   "source": [
    "# Sprawdzenie czy w danych występują wartości Nan"
   ]
  },
  {
   "cell_type": "code",
   "execution_count": 22,
   "id": "e71e8f88-0740-40ff-8049-2115664fec99",
   "metadata": {},
   "outputs": [
    {
     "data": {
      "text/plain": [
       "rowCount            0\n",
       "probingTimestamp    0\n",
       "dtype: int64"
      ]
     },
     "execution_count": 22,
     "metadata": {},
     "output_type": "execute_result"
    }
   ],
   "source": [
    "df.isna().sum()"
   ]
  },
  {
   "cell_type": "code",
   "execution_count": 23,
   "id": "f3645f8c",
   "metadata": {},
   "outputs": [],
   "source": [
    "# Sprawdzenie czy w danych wsystępują duplikaty"
   ]
  },
  {
   "cell_type": "code",
   "execution_count": 24,
   "id": "995bebfd-633f-4a2d-b4e1-d490e1d737e2",
   "metadata": {},
   "outputs": [
    {
     "data": {
      "text/html": [
       "<div>\n",
       "<style scoped>\n",
       "    .dataframe tbody tr th:only-of-type {\n",
       "        vertical-align: middle;\n",
       "    }\n",
       "\n",
       "    .dataframe tbody tr th {\n",
       "        vertical-align: top;\n",
       "    }\n",
       "\n",
       "    .dataframe thead th {\n",
       "        text-align: right;\n",
       "    }\n",
       "</style>\n",
       "<table border=\"1\" class=\"dataframe\">\n",
       "  <thead>\n",
       "    <tr style=\"text-align: right;\">\n",
       "      <th></th>\n",
       "      <th>rowCount</th>\n",
       "      <th>probingTimestamp</th>\n",
       "    </tr>\n",
       "  </thead>\n",
       "  <tbody>\n",
       "    <tr>\n",
       "      <th>8437</th>\n",
       "      <td>317582568</td>\n",
       "      <td>2020-01-16 11:19:00.257</td>\n",
       "    </tr>\n",
       "    <tr>\n",
       "      <th>8588</th>\n",
       "      <td>317606524</td>\n",
       "      <td>2020-01-16 12:26:01.040</td>\n",
       "    </tr>\n",
       "    <tr>\n",
       "      <th>8733</th>\n",
       "      <td>317606524</td>\n",
       "      <td>2020-01-16 12:26:01.040</td>\n",
       "    </tr>\n",
       "    <tr>\n",
       "      <th>8947</th>\n",
       "      <td>317582568</td>\n",
       "      <td>2020-01-16 11:19:00.257</td>\n",
       "    </tr>\n",
       "    <tr>\n",
       "      <th>18529</th>\n",
       "      <td>320921727</td>\n",
       "      <td>2020-01-23 13:08:01.017</td>\n",
       "    </tr>\n",
       "    <tr>\n",
       "      <th>...</th>\n",
       "      <td>...</td>\n",
       "      <td>...</td>\n",
       "    </tr>\n",
       "    <tr>\n",
       "      <th>157590</th>\n",
       "      <td>289695919</td>\n",
       "      <td>2020-04-30 12:01:00.320</td>\n",
       "    </tr>\n",
       "    <tr>\n",
       "      <th>157612</th>\n",
       "      <td>289694331</td>\n",
       "      <td>2020-04-30 00:01:00.480</td>\n",
       "    </tr>\n",
       "    <tr>\n",
       "      <th>157947</th>\n",
       "      <td>289695919</td>\n",
       "      <td>2020-04-30 12:01:00.320</td>\n",
       "    </tr>\n",
       "    <tr>\n",
       "      <th>160143</th>\n",
       "      <td>289702842</td>\n",
       "      <td>2020-05-02 04:02:00.040</td>\n",
       "    </tr>\n",
       "    <tr>\n",
       "      <th>160541</th>\n",
       "      <td>289702842</td>\n",
       "      <td>2020-05-02 04:02:00.040</td>\n",
       "    </tr>\n",
       "  </tbody>\n",
       "</table>\n",
       "<p>444 rows × 2 columns</p>\n",
       "</div>"
      ],
      "text/plain": [
       "         rowCount        probingTimestamp\n",
       "8437    317582568 2020-01-16 11:19:00.257\n",
       "8588    317606524 2020-01-16 12:26:01.040\n",
       "8733    317606524 2020-01-16 12:26:01.040\n",
       "8947    317582568 2020-01-16 11:19:00.257\n",
       "18529   320921727 2020-01-23 13:08:01.017\n",
       "...           ...                     ...\n",
       "157590  289695919 2020-04-30 12:01:00.320\n",
       "157612  289694331 2020-04-30 00:01:00.480\n",
       "157947  289695919 2020-04-30 12:01:00.320\n",
       "160143  289702842 2020-05-02 04:02:00.040\n",
       "160541  289702842 2020-05-02 04:02:00.040\n",
       "\n",
       "[444 rows x 2 columns]"
      ]
     },
     "execution_count": 24,
     "metadata": {},
     "output_type": "execute_result"
    }
   ],
   "source": [
    "df[df.duplicated(keep = False)]"
   ]
  },
  {
   "cell_type": "markdown",
   "id": "a6b13a59",
   "metadata": {},
   "source": [
    "# Problem 4 - w danych znajdują się zduplikowane wiersze, które zostaną usunięte"
   ]
  },
  {
   "cell_type": "code",
   "execution_count": 25,
   "id": "3e5fc82a-9436-4085-8922-1724aea7b5eb",
   "metadata": {},
   "outputs": [],
   "source": [
    "df.drop_duplicates(keep = 'first', inplace = True)"
   ]
  },
  {
   "cell_type": "code",
   "execution_count": 26,
   "id": "bd960367-ad71-4e74-bd57-fbf682d3327e",
   "metadata": {},
   "outputs": [
    {
     "data": {
      "text/html": [
       "<div>\n",
       "<style scoped>\n",
       "    .dataframe tbody tr th:only-of-type {\n",
       "        vertical-align: middle;\n",
       "    }\n",
       "\n",
       "    .dataframe tbody tr th {\n",
       "        vertical-align: top;\n",
       "    }\n",
       "\n",
       "    .dataframe thead th {\n",
       "        text-align: right;\n",
       "    }\n",
       "</style>\n",
       "<table border=\"1\" class=\"dataframe\">\n",
       "  <thead>\n",
       "    <tr style=\"text-align: right;\">\n",
       "      <th></th>\n",
       "      <th>rowCount</th>\n",
       "      <th>probingTimestamp</th>\n",
       "    </tr>\n",
       "  </thead>\n",
       "  <tbody>\n",
       "    <tr>\n",
       "      <th>0</th>\n",
       "      <td>315349655</td>\n",
       "      <td>2020-01-13 09:33:00.497</td>\n",
       "    </tr>\n",
       "    <tr>\n",
       "      <th>1</th>\n",
       "      <td>315349655</td>\n",
       "      <td>2020-01-13 09:34:00.157</td>\n",
       "    </tr>\n",
       "    <tr>\n",
       "      <th>2</th>\n",
       "      <td>314533770</td>\n",
       "      <td>2020-01-11 01:18:00.143</td>\n",
       "    </tr>\n",
       "    <tr>\n",
       "      <th>3</th>\n",
       "      <td>289249872</td>\n",
       "      <td>2020-04-05 16:10:00.333</td>\n",
       "    </tr>\n",
       "    <tr>\n",
       "      <th>4</th>\n",
       "      <td>289249872</td>\n",
       "      <td>2020-04-05 16:11:00.883</td>\n",
       "    </tr>\n",
       "    <tr>\n",
       "      <th>...</th>\n",
       "      <td>...</td>\n",
       "      <td>...</td>\n",
       "    </tr>\n",
       "    <tr>\n",
       "      <th>160730</th>\n",
       "      <td>289702842</td>\n",
       "      <td>2020-05-02 04:43:00.767</td>\n",
       "    </tr>\n",
       "    <tr>\n",
       "      <th>160731</th>\n",
       "      <td>289702943</td>\n",
       "      <td>2020-05-02 07:26:01.040</td>\n",
       "    </tr>\n",
       "    <tr>\n",
       "      <th>160732</th>\n",
       "      <td>289702883</td>\n",
       "      <td>2020-05-02 06:10:00.157</td>\n",
       "    </tr>\n",
       "    <tr>\n",
       "      <th>160733</th>\n",
       "      <td>289702842</td>\n",
       "      <td>2020-05-02 04:18:00.117</td>\n",
       "    </tr>\n",
       "    <tr>\n",
       "      <th>160734</th>\n",
       "      <td>289702883</td>\n",
       "      <td>2020-05-02 06:11:00.597</td>\n",
       "    </tr>\n",
       "  </tbody>\n",
       "</table>\n",
       "<p>160513 rows × 2 columns</p>\n",
       "</div>"
      ],
      "text/plain": [
       "         rowCount        probingTimestamp\n",
       "0       315349655 2020-01-13 09:33:00.497\n",
       "1       315349655 2020-01-13 09:34:00.157\n",
       "2       314533770 2020-01-11 01:18:00.143\n",
       "3       289249872 2020-04-05 16:10:00.333\n",
       "4       289249872 2020-04-05 16:11:00.883\n",
       "...           ...                     ...\n",
       "160730  289702842 2020-05-02 04:43:00.767\n",
       "160731  289702943 2020-05-02 07:26:01.040\n",
       "160732  289702883 2020-05-02 06:10:00.157\n",
       "160733  289702842 2020-05-02 04:18:00.117\n",
       "160734  289702883 2020-05-02 06:11:00.597\n",
       "\n",
       "[160513 rows x 2 columns]"
      ]
     },
     "execution_count": 26,
     "metadata": {},
     "output_type": "execute_result"
    }
   ],
   "source": [
    "df"
   ]
  },
  {
   "cell_type": "code",
   "execution_count": 27,
   "id": "ab15a489-4e12-4cca-b82e-8d4eacbfc062",
   "metadata": {},
   "outputs": [],
   "source": [
    "# Sortowanie danych w celu zidentyfikowania ciągłości"
   ]
  },
  {
   "cell_type": "code",
   "execution_count": 28,
   "id": "1d1eb064-e4ad-4789-afea-91dad20e009a",
   "metadata": {},
   "outputs": [
    {
     "data": {
      "text/html": [
       "<div>\n",
       "<style scoped>\n",
       "    .dataframe tbody tr th:only-of-type {\n",
       "        vertical-align: middle;\n",
       "    }\n",
       "\n",
       "    .dataframe tbody tr th {\n",
       "        vertical-align: top;\n",
       "    }\n",
       "\n",
       "    .dataframe thead th {\n",
       "        text-align: right;\n",
       "    }\n",
       "</style>\n",
       "<table border=\"1\" class=\"dataframe\">\n",
       "  <thead>\n",
       "    <tr style=\"text-align: right;\">\n",
       "      <th></th>\n",
       "      <th>rowCount</th>\n",
       "      <th>probingTimestamp</th>\n",
       "    </tr>\n",
       "  </thead>\n",
       "  <tbody>\n",
       "    <tr>\n",
       "      <th>84761</th>\n",
       "      <td>283240055</td>\n",
       "      <td>2020-03-09 13:38:00.147</td>\n",
       "    </tr>\n",
       "    <tr>\n",
       "      <th>84762</th>\n",
       "      <td>283240055</td>\n",
       "      <td>2020-03-09 13:39:00.717</td>\n",
       "    </tr>\n",
       "    <tr>\n",
       "      <th>84758</th>\n",
       "      <td>283240055</td>\n",
       "      <td>2020-03-09 13:40:00.290</td>\n",
       "    </tr>\n",
       "    <tr>\n",
       "      <th>84763</th>\n",
       "      <td>283240055</td>\n",
       "      <td>2020-03-09 13:41:00.883</td>\n",
       "    </tr>\n",
       "    <tr>\n",
       "      <th>84764</th>\n",
       "      <td>283240055</td>\n",
       "      <td>2020-03-09 13:42:00.353</td>\n",
       "    </tr>\n",
       "    <tr>\n",
       "      <th>...</th>\n",
       "      <td>...</td>\n",
       "      <td>...</td>\n",
       "    </tr>\n",
       "    <tr>\n",
       "      <th>80386</th>\n",
       "      <td>338841446</td>\n",
       "      <td>2020-03-06 09:54:00.550</td>\n",
       "    </tr>\n",
       "    <tr>\n",
       "      <th>80400</th>\n",
       "      <td>338841446</td>\n",
       "      <td>2020-03-06 09:55:00.043</td>\n",
       "    </tr>\n",
       "    <tr>\n",
       "      <th>80401</th>\n",
       "      <td>338841446</td>\n",
       "      <td>2020-03-06 09:56:00.573</td>\n",
       "    </tr>\n",
       "    <tr>\n",
       "      <th>80402</th>\n",
       "      <td>338841446</td>\n",
       "      <td>2020-03-06 09:57:00.040</td>\n",
       "    </tr>\n",
       "    <tr>\n",
       "      <th>80403</th>\n",
       "      <td>338841446</td>\n",
       "      <td>2020-03-06 09:58:00.510</td>\n",
       "    </tr>\n",
       "  </tbody>\n",
       "</table>\n",
       "<p>160513 rows × 2 columns</p>\n",
       "</div>"
      ],
      "text/plain": [
       "        rowCount        probingTimestamp\n",
       "84761  283240055 2020-03-09 13:38:00.147\n",
       "84762  283240055 2020-03-09 13:39:00.717\n",
       "84758  283240055 2020-03-09 13:40:00.290\n",
       "84763  283240055 2020-03-09 13:41:00.883\n",
       "84764  283240055 2020-03-09 13:42:00.353\n",
       "...          ...                     ...\n",
       "80386  338841446 2020-03-06 09:54:00.550\n",
       "80400  338841446 2020-03-06 09:55:00.043\n",
       "80401  338841446 2020-03-06 09:56:00.573\n",
       "80402  338841446 2020-03-06 09:57:00.040\n",
       "80403  338841446 2020-03-06 09:58:00.510\n",
       "\n",
       "[160513 rows x 2 columns]"
      ]
     },
     "execution_count": 28,
     "metadata": {},
     "output_type": "execute_result"
    }
   ],
   "source": [
    "df.sort_values(by = ['rowCount', 'probingTimestamp'])"
   ]
  },
  {
   "cell_type": "code",
   "execution_count": 29,
   "id": "425db3f3-3351-4450-9adf-1b6561ab710b",
   "metadata": {},
   "outputs": [
    {
     "data": {
      "text/html": [
       "<div>\n",
       "<style scoped>\n",
       "    .dataframe tbody tr th:only-of-type {\n",
       "        vertical-align: middle;\n",
       "    }\n",
       "\n",
       "    .dataframe tbody tr th {\n",
       "        vertical-align: top;\n",
       "    }\n",
       "\n",
       "    .dataframe thead th {\n",
       "        text-align: right;\n",
       "    }\n",
       "</style>\n",
       "<table border=\"1\" class=\"dataframe\">\n",
       "  <thead>\n",
       "    <tr style=\"text-align: right;\">\n",
       "      <th></th>\n",
       "      <th>rowCount</th>\n",
       "      <th>probingTimestamp</th>\n",
       "    </tr>\n",
       "  </thead>\n",
       "  <tbody>\n",
       "    <tr>\n",
       "      <th>3506</th>\n",
       "      <td>314015548</td>\n",
       "      <td>2020-01-10 10:04:18.837</td>\n",
       "    </tr>\n",
       "    <tr>\n",
       "      <th>3505</th>\n",
       "      <td>314015548</td>\n",
       "      <td>2020-01-10 10:16:29.063</td>\n",
       "    </tr>\n",
       "    <tr>\n",
       "      <th>3507</th>\n",
       "      <td>314015548</td>\n",
       "      <td>2020-01-10 10:17:00.510</td>\n",
       "    </tr>\n",
       "    <tr>\n",
       "      <th>3512</th>\n",
       "      <td>314015548</td>\n",
       "      <td>2020-01-10 10:18:00.977</td>\n",
       "    </tr>\n",
       "    <tr>\n",
       "      <th>3513</th>\n",
       "      <td>314015548</td>\n",
       "      <td>2020-01-10 10:19:00.610</td>\n",
       "    </tr>\n",
       "    <tr>\n",
       "      <th>...</th>\n",
       "      <td>...</td>\n",
       "      <td>...</td>\n",
       "    </tr>\n",
       "    <tr>\n",
       "      <th>160365</th>\n",
       "      <td>289702943</td>\n",
       "      <td>2020-05-02 07:56:00.117</td>\n",
       "    </tr>\n",
       "    <tr>\n",
       "      <th>160366</th>\n",
       "      <td>289702943</td>\n",
       "      <td>2020-05-02 07:57:00.537</td>\n",
       "    </tr>\n",
       "    <tr>\n",
       "      <th>160369</th>\n",
       "      <td>289702943</td>\n",
       "      <td>2020-05-02 07:58:00.083</td>\n",
       "    </tr>\n",
       "    <tr>\n",
       "      <th>160373</th>\n",
       "      <td>289702943</td>\n",
       "      <td>2020-05-02 07:59:00.543</td>\n",
       "    </tr>\n",
       "    <tr>\n",
       "      <th>160058</th>\n",
       "      <td>289702943</td>\n",
       "      <td>2020-05-02 08:00:00.120</td>\n",
       "    </tr>\n",
       "  </tbody>\n",
       "</table>\n",
       "<p>160513 rows × 2 columns</p>\n",
       "</div>"
      ],
      "text/plain": [
       "         rowCount        probingTimestamp\n",
       "3506    314015548 2020-01-10 10:04:18.837\n",
       "3505    314015548 2020-01-10 10:16:29.063\n",
       "3507    314015548 2020-01-10 10:17:00.510\n",
       "3512    314015548 2020-01-10 10:18:00.977\n",
       "3513    314015548 2020-01-10 10:19:00.610\n",
       "...           ...                     ...\n",
       "160365  289702943 2020-05-02 07:56:00.117\n",
       "160366  289702943 2020-05-02 07:57:00.537\n",
       "160369  289702943 2020-05-02 07:58:00.083\n",
       "160373  289702943 2020-05-02 07:59:00.543\n",
       "160058  289702943 2020-05-02 08:00:00.120\n",
       "\n",
       "[160513 rows x 2 columns]"
      ]
     },
     "execution_count": 29,
     "metadata": {},
     "output_type": "execute_result"
    }
   ],
   "source": [
    "df.sort_values(by = ['probingTimestamp', 'rowCount'])"
   ]
  },
  {
   "cell_type": "code",
   "execution_count": 30,
   "id": "059692b1",
   "metadata": {},
   "outputs": [],
   "source": [
    "#Ponowne wczytanie bazy, usunięcie duplikatów oraz usunięcie kolumny 'dataStream'"
   ]
  },
  {
   "cell_type": "code",
   "execution_count": 31,
   "id": "b0a6b071",
   "metadata": {},
   "outputs": [],
   "source": [
    "df2 = pd.read_csv(\"BCL_TaskCreation.csv\", delimiter=\";\")\n",
    "df2.drop_duplicates(keep = 'first', inplace = True)\n",
    "df2.drop(columns = ['dataStream'], inplace = True)"
   ]
  },
  {
   "cell_type": "code",
   "execution_count": 32,
   "id": "59c0a63d",
   "metadata": {},
   "outputs": [],
   "source": [
    "#Zmiana formatu i typu kolumny 'probingTimestamp' maksymalnie do godziny w celu identyfikacji zależności między nimi"
   ]
  },
  {
   "cell_type": "code",
   "execution_count": 33,
   "id": "77c51384",
   "metadata": {},
   "outputs": [
    {
     "data": {
      "text/html": [
       "<div>\n",
       "<style scoped>\n",
       "    .dataframe tbody tr th:only-of-type {\n",
       "        vertical-align: middle;\n",
       "    }\n",
       "\n",
       "    .dataframe tbody tr th {\n",
       "        vertical-align: top;\n",
       "    }\n",
       "\n",
       "    .dataframe thead th {\n",
       "        text-align: right;\n",
       "    }\n",
       "</style>\n",
       "<table border=\"1\" class=\"dataframe\">\n",
       "  <thead>\n",
       "    <tr style=\"text-align: right;\">\n",
       "      <th></th>\n",
       "      <th>rowCount</th>\n",
       "      <th>probingTimestamp</th>\n",
       "    </tr>\n",
       "  </thead>\n",
       "  <tbody>\n",
       "    <tr>\n",
       "      <th>3842</th>\n",
       "      <td>314015548</td>\n",
       "      <td>2020/01/10 10</td>\n",
       "    </tr>\n",
       "    <tr>\n",
       "      <th>3478</th>\n",
       "      <td>314015548</td>\n",
       "      <td>2020/01/10 10</td>\n",
       "    </tr>\n",
       "    <tr>\n",
       "      <th>3697</th>\n",
       "      <td>314015548</td>\n",
       "      <td>2020/01/10 10</td>\n",
       "    </tr>\n",
       "    <tr>\n",
       "      <th>3698</th>\n",
       "      <td>314015548</td>\n",
       "      <td>2020/01/10 10</td>\n",
       "    </tr>\n",
       "    <tr>\n",
       "      <th>3710</th>\n",
       "      <td>314015548</td>\n",
       "      <td>2020/01/10 10</td>\n",
       "    </tr>\n",
       "    <tr>\n",
       "      <th>...</th>\n",
       "      <td>...</td>\n",
       "      <td>...</td>\n",
       "    </tr>\n",
       "    <tr>\n",
       "      <th>160593</th>\n",
       "      <td>289702943</td>\n",
       "      <td>2020/05/02 07</td>\n",
       "    </tr>\n",
       "    <tr>\n",
       "      <th>160493</th>\n",
       "      <td>289702943</td>\n",
       "      <td>2020/05/02 07</td>\n",
       "    </tr>\n",
       "    <tr>\n",
       "      <th>159816</th>\n",
       "      <td>289702943</td>\n",
       "      <td>2020/05/02 07</td>\n",
       "    </tr>\n",
       "    <tr>\n",
       "      <th>160692</th>\n",
       "      <td>289702943</td>\n",
       "      <td>2020/05/02 07</td>\n",
       "    </tr>\n",
       "    <tr>\n",
       "      <th>160058</th>\n",
       "      <td>289702943</td>\n",
       "      <td>2020/05/02 08</td>\n",
       "    </tr>\n",
       "  </tbody>\n",
       "</table>\n",
       "<p>160513 rows × 2 columns</p>\n",
       "</div>"
      ],
      "text/plain": [
       "         rowCount probingTimestamp\n",
       "3842    314015548    2020/01/10 10\n",
       "3478    314015548    2020/01/10 10\n",
       "3697    314015548    2020/01/10 10\n",
       "3698    314015548    2020/01/10 10\n",
       "3710    314015548    2020/01/10 10\n",
       "...           ...              ...\n",
       "160593  289702943    2020/05/02 07\n",
       "160493  289702943    2020/05/02 07\n",
       "159816  289702943    2020/05/02 07\n",
       "160692  289702943    2020/05/02 07\n",
       "160058  289702943    2020/05/02 08\n",
       "\n",
       "[160513 rows x 2 columns]"
      ]
     },
     "execution_count": 33,
     "metadata": {},
     "output_type": "execute_result"
    }
   ],
   "source": [
    "df2['probingTimestamp']=pd.to_datetime(df2['probingTimestamp'].astype(str), format='%Y/%m/%d %H')\n",
    "df2['probingTimestamp'] = df2['probingTimestamp'].dt.strftime('%Y/%m/%d %H')\n",
    "df2 = df2.sort_values('probingTimestamp')\n",
    "df2"
   ]
  },
  {
   "cell_type": "code",
   "execution_count": 34,
   "id": "41bbdf94",
   "metadata": {},
   "outputs": [],
   "source": [
    "#Stworzenie funkcji w celu wyświetlenia powtarzalności numerów 'rowCount' w ciągu jednej godziny"
   ]
  },
  {
   "cell_type": "code",
   "execution_count": 35,
   "id": "bf851bb8",
   "metadata": {},
   "outputs": [],
   "source": [
    "def rowCount_segmentation_per_hour():\n",
    "    import matplotlib.pyplot as plt\n",
    "    all_rowCount = df2.value_counts().count()\n",
    "    rowCount1 = df2.value_counts().loc[lambda x : x==60].count()\n",
    "    rowCount2 = df2.value_counts().loc[lambda x : x==59].count()\n",
    "    rowCount3 = df2.value_counts().loc[lambda x : x==58].count()\n",
    "    rowCount4 = df2.value_counts().loc[lambda x : x==57].count()\n",
    "    rowCount5 = df2.value_counts().loc[lambda x : (x>1, x<57)].count()\n",
    "    rowCount6 = df2.value_counts().loc[lambda x : x==1].count()\n",
    "    rowCount7 = df2.value_counts().loc[lambda x : x>60].count()\n",
    "    other = rowCount1 + rowCount3 + rowCount5\n",
    "    \n",
    "    print(\"\\nIlość numerów 'rowCount' występujących w ciągu jednej godziny 60 razy: \" + str(rowCount1) +\n",
    "          \"\\nIlość numerów 'rowCount' występujących w ciągu jednej godziny 59 razy: \" + str(rowCount2) +\n",
    "          \"\\nIlość numerów 'rowCount' występujących w ciągu jednej godziny 58 razy: \" + str(rowCount3) +\n",
    "          \"\\nIlość numerów 'rowCount' występujących w ciągu jednej godziny 57 razy: \" + str(rowCount4) +\n",
    "          \"\\nIlość numerów 'rowCount' występujących w ciągu jednej godziny w przedziale (1-57): \" + str(rowCount5) +\n",
    "          \"\\nIlość numerów 'rowCount' występujacych w ciągu jednej godziny tylko raz: \" + str(rowCount6) +\n",
    "          \"\\nIlość numerów 'rowCount' występujacych w ciągu jednej godziny więcej niż 60 razy: \" + str(rowCount7))\n",
    "    \n",
    "    lb1 = round(rowCount2 / all_rowCount * 100, 2)\n",
    "    lb2 = round(rowCount4 / all_rowCount * 100, 2)\n",
    "    lb3 = round(rowCount6 / all_rowCount * 100, 2)\n",
    "    lb4 = round(other / all_rowCount * 100, 2)\n",
    "    \n",
    "    \n",
    "    labels = [str(lb1) + \"%\",str(lb2) + \"%\",str(lb3) + \"%\",str(lb4)]\n",
    "    values = [rowCount2, rowCount4, rowCount6, other]\n",
    "    plt.pie(values, labels=labels, shadow = True, explode = (0.1, 0.1, 0.1, 0.1))\n",
    "    plt.legend(['59','57','1','other'], loc='lower center', fontsize='small')\n",
    "    plt.show()"
   ]
  },
  {
   "cell_type": "code",
   "execution_count": 36,
   "id": "cef84d0d",
   "metadata": {},
   "outputs": [],
   "source": [
    "#Największa ilość numerów 'rowCount' występuje w ciągu jednej godziny tylko raz (67.42%)\n",
    "#Nie ma ani jednego przypadku dla wystąpienia powyżej 60 razy"
   ]
  },
  {
   "cell_type": "code",
   "execution_count": 37,
   "id": "a634ae08",
   "metadata": {},
   "outputs": [
    {
     "name": "stdout",
     "output_type": "stream",
     "text": [
      "\n",
      "Ilość numerów 'rowCount' występujących w ciągu jednej godziny 60 razy: 172\n",
      "Ilość numerów 'rowCount' występujących w ciągu jednej godziny 59 razy: 1053\n",
      "Ilość numerów 'rowCount' występujących w ciągu jednej godziny 58 razy: 74\n",
      "Ilość numerów 'rowCount' występujących w ciągu jednej godziny 57 razy: 1117\n",
      "Ilość numerów 'rowCount' występujących w ciągu jednej godziny w przedziale (1-57): 603\n",
      "Ilość numerów 'rowCount' występujacych w ciągu jednej godziny tylko raz: 6247\n",
      "Ilość numerów 'rowCount' występujacych w ciągu jednej godziny więcej niż 60 razy: 0\n"
     ]
    },
    {
     "data": {
      "image/png": "[encoded data removed]",
      "text/plain": [
       "<Figure size 432x288 with 1 Axes>"
      ]
     },
     "metadata": {},
     "output_type": "display_data"
    }
   ],
   "source": [
    "rowCount_segmentation_per_hour()"
   ]
  },
  {
   "cell_type": "code",
   "execution_count": 38,
   "id": "6bf2d189",
   "metadata": {},
   "outputs": [],
   "source": [
    "#Niżej wymienione przykłady pokazują zależność między następnymi godzinami\n",
    "#Wyszukanie wszystkich wartości 'rowCount' zawierających wskazaną datę i godzinę"
   ]
  },
  {
   "cell_type": "code",
   "execution_count": 39,
   "id": "039e8f63",
   "metadata": {},
   "outputs": [
    {
     "data": {
      "text/plain": [
       "rowCount   probingTimestamp\n",
       "314880353  2020/01/12 00       57\n",
       "314867782  2020/01/12 00        1\n",
       "314877782  2020/01/12 00        1\n",
       "314879835  2020/01/12 00        1\n",
       "dtype: int64"
      ]
     },
     "execution_count": 39,
     "metadata": {},
     "output_type": "execute_result"
    }
   ],
   "source": [
    "day=df2.loc[df2['probingTimestamp'] == ('2020/01/12 00')]\n",
    "day.value_counts()"
   ]
  },
  {
   "cell_type": "code",
   "execution_count": 40,
   "id": "a1c8e264",
   "metadata": {},
   "outputs": [
    {
     "data": {
      "text/plain": [
       "rowCount   probingTimestamp\n",
       "314891383  2020/01/12 01       57\n",
       "314880353  2020/01/12 01        1\n",
       "314890353  2020/01/12 01        1\n",
       "314890904  2020/01/12 01        1\n",
       "dtype: int64"
      ]
     },
     "execution_count": 40,
     "metadata": {},
     "output_type": "execute_result"
    }
   ],
   "source": [
    "day=df2.loc[df2['probingTimestamp'] == ('2020/01/12 01')]\n",
    "day.value_counts()"
   ]
  },
  {
   "cell_type": "code",
   "execution_count": 41,
   "id": "903f207c",
   "metadata": {},
   "outputs": [
    {
     "data": {
      "text/plain": [
       "rowCount   probingTimestamp\n",
       "288143375  2020/03/26 15       59\n",
       "288135434  2020/03/26 15        1\n",
       "dtype: int64"
      ]
     },
     "execution_count": 41,
     "metadata": {},
     "output_type": "execute_result"
    }
   ],
   "source": [
    "day=df2.loc[df2['probingTimestamp'] == ('2020/03/26 15')]\n",
    "day.value_counts()"
   ]
  },
  {
   "cell_type": "code",
   "execution_count": 42,
   "id": "b6ae2b21",
   "metadata": {},
   "outputs": [
    {
     "data": {
      "text/plain": [
       "rowCount   probingTimestamp\n",
       "288152127  2020/03/26 16       59\n",
       "288143375  2020/03/26 16        1\n",
       "dtype: int64"
      ]
     },
     "execution_count": 42,
     "metadata": {},
     "output_type": "execute_result"
    }
   ],
   "source": [
    "day=df2.loc[df2['probingTimestamp'] == ('2020/03/26 16')]\n",
    "day.value_counts()"
   ]
  },
  {
   "cell_type": "code",
   "execution_count": 46,
   "id": "6ee7962d",
   "metadata": {},
   "outputs": [],
   "source": [
    "#Dane zawierają różne warianty przypisania numeru 'rowCount' do konkretnej godziny\n",
    "#Występują dwa dominujące warianty:\n",
    "#\n",
    "#a.)\n",
    "#   rowCount   probingTimestamp\n",
    "#   314880353  2020/01/12 00       57\n",
    "#   314867782  2020/01/12 00        1\n",
    "#   314877782  2020/01/12 00        1\n",
    "#   314879835  2020/01/12 00        1\n",
    "#\n",
    "#Ten wariant przypisuje numer 'rowCount' w 4 zakresach:\n",
    "#  x-Wyszukana godzina(w tym przypadku jest to 00) \n",
    "#1. x:03 - x+1:00\n",
    "#2. x:01\n",
    "#3. x:02\n",
    "#4. x-1:03 - x:00\n",
    "#\n",
    "#W tym przypadku zakres 2 posiada wartość 'rowCount' większą o 10000 od wartości w zakresie 4\n",
    "#\n",
    "#\n",
    "#\n",
    "#b.)  \n",
    "#   rowCount   probingTimestamp\n",
    "#   288143375  2020/03/26 15       59\n",
    "#   288135434  2020/03/26 15        1\n",
    "#\n",
    "#Przypisuje numer 'rowCount' w 2 zakresach:\n",
    "# x-Wyszukana godzina(w tym przypadku jest to 09)\n",
    "#1. x:01 - x+1:00\n",
    "#2. x-1:01 - x:00\n",
    "#"
   ]
  },
  {
   "cell_type": "code",
   "execution_count": 47,
   "id": "24936390",
   "metadata": {},
   "outputs": [],
   "source": [
    "#Ponowne wczytanie bazy, usunięcie duplikatów oraz usunięcie kolumny 'dataStream'"
   ]
  },
  {
   "cell_type": "code",
   "execution_count": 48,
   "id": "79d98a0f",
   "metadata": {},
   "outputs": [],
   "source": [
    "df3 = pd.read_csv(\"BCL_TaskCreation.csv\", delimiter=\";\")\n",
    "df3.drop_duplicates(keep = 'first', inplace = True)\n",
    "df3.drop(columns = ['dataStream'], inplace = True)"
   ]
  },
  {
   "cell_type": "code",
   "execution_count": 49,
   "id": "88235683",
   "metadata": {},
   "outputs": [],
   "source": [
    "#Zmiana formatu i typu kolumny 'probingTimestamp' maksymalnie do dnia w celu identyfikacji zależności między nimi"
   ]
  },
  {
   "cell_type": "code",
   "execution_count": 50,
   "id": "339a4d7e",
   "metadata": {},
   "outputs": [
    {
     "data": {
      "text/html": [
       "<div>\n",
       "<style scoped>\n",
       "    .dataframe tbody tr th:only-of-type {\n",
       "        vertical-align: middle;\n",
       "    }\n",
       "\n",
       "    .dataframe tbody tr th {\n",
       "        vertical-align: top;\n",
       "    }\n",
       "\n",
       "    .dataframe thead th {\n",
       "        text-align: right;\n",
       "    }\n",
       "</style>\n",
       "<table border=\"1\" class=\"dataframe\">\n",
       "  <thead>\n",
       "    <tr style=\"text-align: right;\">\n",
       "      <th></th>\n",
       "      <th>rowCount</th>\n",
       "      <th>probingTimestamp</th>\n",
       "    </tr>\n",
       "  </thead>\n",
       "  <tbody>\n",
       "    <tr>\n",
       "      <th>4366</th>\n",
       "      <td>314497843</td>\n",
       "      <td>2020/01/10</td>\n",
       "    </tr>\n",
       "    <tr>\n",
       "      <th>4013</th>\n",
       "      <td>314404276</td>\n",
       "      <td>2020/01/10</td>\n",
       "    </tr>\n",
       "    <tr>\n",
       "      <th>4014</th>\n",
       "      <td>314404276</td>\n",
       "      <td>2020/01/10</td>\n",
       "    </tr>\n",
       "    <tr>\n",
       "      <th>4015</th>\n",
       "      <td>314404276</td>\n",
       "      <td>2020/01/10</td>\n",
       "    </tr>\n",
       "    <tr>\n",
       "      <th>4016</th>\n",
       "      <td>314404276</td>\n",
       "      <td>2020/01/10</td>\n",
       "    </tr>\n",
       "    <tr>\n",
       "      <th>...</th>\n",
       "      <td>...</td>\n",
       "      <td>...</td>\n",
       "    </tr>\n",
       "    <tr>\n",
       "      <th>160376</th>\n",
       "      <td>289702766</td>\n",
       "      <td>2020/05/02</td>\n",
       "    </tr>\n",
       "    <tr>\n",
       "      <th>160375</th>\n",
       "      <td>289702766</td>\n",
       "      <td>2020/05/02</td>\n",
       "    </tr>\n",
       "    <tr>\n",
       "      <th>160374</th>\n",
       "      <td>289702766</td>\n",
       "      <td>2020/05/02</td>\n",
       "    </tr>\n",
       "    <tr>\n",
       "      <th>160340</th>\n",
       "      <td>289702697</td>\n",
       "      <td>2020/05/02</td>\n",
       "    </tr>\n",
       "    <tr>\n",
       "      <th>160734</th>\n",
       "      <td>289702883</td>\n",
       "      <td>2020/05/02</td>\n",
       "    </tr>\n",
       "  </tbody>\n",
       "</table>\n",
       "<p>160513 rows × 2 columns</p>\n",
       "</div>"
      ],
      "text/plain": [
       "         rowCount probingTimestamp\n",
       "4366    314497843       2020/01/10\n",
       "4013    314404276       2020/01/10\n",
       "4014    314404276       2020/01/10\n",
       "4015    314404276       2020/01/10\n",
       "4016    314404276       2020/01/10\n",
       "...           ...              ...\n",
       "160376  289702766       2020/05/02\n",
       "160375  289702766       2020/05/02\n",
       "160374  289702766       2020/05/02\n",
       "160340  289702697       2020/05/02\n",
       "160734  289702883       2020/05/02\n",
       "\n",
       "[160513 rows x 2 columns]"
      ]
     },
     "execution_count": 50,
     "metadata": {},
     "output_type": "execute_result"
    }
   ],
   "source": [
    "df3['probingTimestamp']=pd.to_datetime(df3['probingTimestamp'].astype(str), format='%Y/%m/%d')\n",
    "df3['probingTimestamp'] = df3['probingTimestamp'].dt.strftime('%Y/%m/%d')\n",
    "df3 = df3.sort_values('probingTimestamp')\n",
    "df3"
   ]
  },
  {
   "cell_type": "code",
   "execution_count": 51,
   "id": "826a10e4",
   "metadata": {},
   "outputs": [],
   "source": [
    "#Stworzenie funkcji w celu wyświetlenia powtarzalności numerów 'rowCount' w ciągu jednego dnia"
   ]
  },
  {
   "cell_type": "code",
   "execution_count": 61,
   "id": "b4d0ac02",
   "metadata": {},
   "outputs": [],
   "source": [
    "def rowCount_segmentation_per_day():\n",
    "    import matplotlib.pyplot as plt\n",
    "    all_rowCount = df3.value_counts().count()\n",
    "    rowCount1 = df3.value_counts().loc[lambda x : x>=1000].count()\n",
    "    rowCount2 = df3.value_counts().loc[lambda x : (x>60, x<1000)].count()\n",
    "    rowCount3 = df3.value_counts().loc[lambda x : (x==60)].count()\n",
    "    rowCount4 = df3.value_counts().loc[lambda x : (x==58)].count()\n",
    "    rowCount5 = df3.value_counts().loc[lambda x : (x>1, x<58)].count() + df3.value_counts().loc[lambda x : x==59].count()\n",
    "    rowCount6 = df3.value_counts().loc[lambda x : (x==1)].count()\n",
    "    other = rowCount1 + rowCount2 + rowCount5\n",
    "    \n",
    "    print(\"\\nIlość numerów 'rowCount' występujących jednego dnia w przedziale 1000+: \" + str(rowCount1) +\n",
    "          \"\\nIlość numerów 'rowCount' występujących jednego dnia w przedziale (60-1000): \" + str(rowCount2) +\n",
    "          \"\\nIlość numerów 'rowCount' występujących jednego dnia 60 razy: \" + str(rowCount3) +\n",
    "          \"\\nIlość numerów 'rowCount' występujących jednego dnia 58 razy: \" + str(rowCount4) +\n",
    "          \"\\nIlość numerów 'rowCount' występujących jednego dnia w przedziale (1-58) oraz 59: \" + str(rowCount5) +\n",
    "          \"\\nIlość numerów 'rowCount' występujacych jednego dnia tylko raz: \" + str(rowCount6)) \n",
    "    \n",
    "    lb1 = round(rowCount3 / all_rowCount * 100, 2)\n",
    "    lb2 = round(rowCount4 / all_rowCount * 100, 2)\n",
    "    lb3 = round(rowCount6 / all_rowCount * 100, 2)\n",
    "    lb4 = round(other / all_rowCount * 100, 2)\n",
    "    \n",
    "    labels = [str(lb1) + \"%\",str(lb2) + \"%\",str(lb3) + \"%\",str(lb4)]\n",
    "    values = [rowCount3, rowCount4, rowCount6, other]\n",
    "    plt.pie(values, labels=labels, shadow = True, explode = (0.1, 0.1, 0.1, 0.1))\n",
    "    plt.legend(['60','58','1','other'], loc='lower center', fontsize='small')\n",
    "    plt.show()"
   ]
  },
  {
   "cell_type": "code",
   "execution_count": 62,
   "id": "cf10a070",
   "metadata": {},
   "outputs": [],
   "source": [
    "#Największa ilość numerów 'rowCount' występuje w ciągu jednego dnia tylko (58.66%)"
   ]
  },
  {
   "cell_type": "code",
   "execution_count": 63,
   "id": "eaa71e6f",
   "metadata": {},
   "outputs": [
    {
     "name": "stdout",
     "output_type": "stream",
     "text": [
      "\n",
      "Ilość numerów 'rowCount' występujących jednego dnia w przedziale 1000+: 3\n",
      "Ilość numerów 'rowCount' występujących jednego dnia w przedziale (60-1000): 59\n",
      "Ilość numerów 'rowCount' występujących jednego dnia 60 razy: 987\n",
      "Ilość numerów 'rowCount' występujących jednego dnia 58 razy: 1017\n",
      "Ilość numerów 'rowCount' występujących jednego dnia w przedziale (1-58) oraz 59: 713\n",
      "Ilość numerów 'rowCount' występujacych jednego dnia tylko raz: 3944\n"
     ]
    },
    {
     "data": {
      "image/png": "[encoded data removed]",
      "text/plain": [
       "<Figure size 432x288 with 1 Axes>"
      ]
     },
     "metadata": {},
     "output_type": "display_data"
    }
   ],
   "source": [
    "rowCount_segmentation_per_day()"
   ]
  },
  {
   "cell_type": "code",
   "execution_count": 64,
   "id": "14bc2935",
   "metadata": {},
   "outputs": [],
   "source": [
    "#Ponowne wczytanie bazy, usunięcie duplikatów oraz usunięcie kolumny 'dataStream'"
   ]
  },
  {
   "cell_type": "code",
   "execution_count": 65,
   "id": "6fc88848",
   "metadata": {},
   "outputs": [],
   "source": [
    "df4 = pd.read_csv(\"BCL_TaskCreation.csv\", delimiter=\";\")\n",
    "df4.drop_duplicates(keep = 'first', inplace = True)\n",
    "df4.drop(columns = ['dataStream'], inplace = True)"
   ]
  },
  {
   "cell_type": "code",
   "execution_count": 66,
   "id": "9dd601a9",
   "metadata": {},
   "outputs": [],
   "source": [
    "#Zmiana formatu kolumny 'probingTimestamp' maksymalnie do miesiąca w celu identyfikacji zależności między nimi"
   ]
  },
  {
   "cell_type": "code",
   "execution_count": 67,
   "id": "54b7ba18",
   "metadata": {},
   "outputs": [
    {
     "data": {
      "text/html": [
       "<div>\n",
       "<style scoped>\n",
       "    .dataframe tbody tr th:only-of-type {\n",
       "        vertical-align: middle;\n",
       "    }\n",
       "\n",
       "    .dataframe tbody tr th {\n",
       "        vertical-align: top;\n",
       "    }\n",
       "\n",
       "    .dataframe thead th {\n",
       "        text-align: right;\n",
       "    }\n",
       "</style>\n",
       "<table border=\"1\" class=\"dataframe\">\n",
       "  <thead>\n",
       "    <tr style=\"text-align: right;\">\n",
       "      <th></th>\n",
       "      <th>rowCount</th>\n",
       "      <th>probingTimestamp</th>\n",
       "    </tr>\n",
       "  </thead>\n",
       "  <tbody>\n",
       "    <tr>\n",
       "      <th>0</th>\n",
       "      <td>315349655</td>\n",
       "      <td>2020/01</td>\n",
       "    </tr>\n",
       "    <tr>\n",
       "      <th>20551</th>\n",
       "      <td>321112827</td>\n",
       "      <td>2020/01</td>\n",
       "    </tr>\n",
       "    <tr>\n",
       "      <th>20550</th>\n",
       "      <td>322514176</td>\n",
       "      <td>2020/01</td>\n",
       "    </tr>\n",
       "    <tr>\n",
       "      <th>20549</th>\n",
       "      <td>322610589</td>\n",
       "      <td>2020/01</td>\n",
       "    </tr>\n",
       "    <tr>\n",
       "      <th>20548</th>\n",
       "      <td>322655034</td>\n",
       "      <td>2020/01</td>\n",
       "    </tr>\n",
       "    <tr>\n",
       "      <th>...</th>\n",
       "      <td>...</td>\n",
       "      <td>...</td>\n",
       "    </tr>\n",
       "    <tr>\n",
       "      <th>159425</th>\n",
       "      <td>289700449</td>\n",
       "      <td>2020/05</td>\n",
       "    </tr>\n",
       "    <tr>\n",
       "      <th>159424</th>\n",
       "      <td>289700449</td>\n",
       "      <td>2020/05</td>\n",
       "    </tr>\n",
       "    <tr>\n",
       "      <th>159423</th>\n",
       "      <td>289700449</td>\n",
       "      <td>2020/05</td>\n",
       "    </tr>\n",
       "    <tr>\n",
       "      <th>159435</th>\n",
       "      <td>289700449</td>\n",
       "      <td>2020/05</td>\n",
       "    </tr>\n",
       "    <tr>\n",
       "      <th>160734</th>\n",
       "      <td>289702883</td>\n",
       "      <td>2020/05</td>\n",
       "    </tr>\n",
       "  </tbody>\n",
       "</table>\n",
       "<p>160513 rows × 2 columns</p>\n",
       "</div>"
      ],
      "text/plain": [
       "         rowCount probingTimestamp\n",
       "0       315349655          2020/01\n",
       "20551   321112827          2020/01\n",
       "20550   322514176          2020/01\n",
       "20549   322610589          2020/01\n",
       "20548   322655034          2020/01\n",
       "...           ...              ...\n",
       "159425  289700449          2020/05\n",
       "159424  289700449          2020/05\n",
       "159423  289700449          2020/05\n",
       "159435  289700449          2020/05\n",
       "160734  289702883          2020/05\n",
       "\n",
       "[160513 rows x 2 columns]"
      ]
     },
     "execution_count": 67,
     "metadata": {},
     "output_type": "execute_result"
    }
   ],
   "source": [
    "df4['probingTimestamp']=pd.to_datetime(df4['probingTimestamp'].astype(str), format='%Y/%m')\n",
    "df4['probingTimestamp'] = df4['probingTimestamp'].dt.strftime('%Y/%m')\n",
    "df4 = df4.sort_values('probingTimestamp')\n",
    "df4"
   ]
  },
  {
   "cell_type": "code",
   "execution_count": 68,
   "id": "b97baf27",
   "metadata": {},
   "outputs": [],
   "source": [
    "#Stworzenie funkcji w celu wyświetlenia powtarzalności numerów 'rowCount' w ciągu jednego miesiąca"
   ]
  },
  {
   "cell_type": "code",
   "execution_count": 69,
   "id": "aa4dc745",
   "metadata": {},
   "outputs": [],
   "source": [
    "def rowCount_segmentation_per_month():\n",
    "    import matplotlib.pyplot as plt\n",
    "    all_rowCount = df4.value_counts().count()\n",
    "    rowCount1 = df4.value_counts().loc[lambda x : x>=1000].count()\n",
    "    rowCount2 = df4.value_counts().loc[lambda x : (x>60, x<1000)].count()\n",
    "    rowCount3 = df4.value_counts().loc[lambda x : x==60].count()\n",
    "    rowCount4 = df4.value_counts().loc[lambda x : x==58].count()\n",
    "    rowCount5 = df4.value_counts().loc[lambda x : (x>1, x<58)].count() + df4.value_counts().loc[lambda x : x==59].count()\n",
    "    rowCount6 = df4.value_counts().loc[lambda x : x==1].count()\n",
    "    other = rowCount1 + rowCount2 + rowCount4\n",
    "    \n",
    "    print(\"Top 5 najczęsciej występujących numerów 'rowCount' w ciągu miesiąca: \\n\"+ str(df4.value_counts().head(5)) + \n",
    "          \"\\nIlość numerów 'rowCount' występujących w ciągu miesiąca w przedziale 1000+: \" + str(rowCount1) +\n",
    "          \"\\nIlość numerów 'rowCount' występujących w ciągu miesiąca w przedziale (60-1000): \" + str(rowCount2) +\n",
    "          \"\\nIlość numerów 'rowCount' występujących w ciągu miesiąca 60 razy: \" + str(rowCount3) +\n",
    "          \"\\nIlość numerów 'rowCount' występujących w ciągu miesiąca 58 razy: \" + str(rowCount4) +\n",
    "          \"\\nIlość numerów 'rowCount' występujących w ciągu miesiąca w przedziale (1-58) oraz 59: \" + str(rowCount5) +\n",
    "          \"\\nIlość numerów 'rowCount' występujacych w ciągu miesiąca tylko raz: \" + str(rowCount6)) \n",
    "    \n",
    "    lb1 = round(rowCount3 / all_rowCount * 100, 2)\n",
    "    lb2 = round(rowCount4 / all_rowCount * 100, 2)\n",
    "    lb3 = round(rowCount6 / all_rowCount * 100, 2)\n",
    "    lb4 = round(other / all_rowCount * 100, 2)\n",
    "    \n",
    "    \n",
    "    labels = [str(lb1) + \"%\",str(lb2) + \"%\",str(lb3) + \"%\",str(lb4)]\n",
    "    values = [rowCount3, rowCount4, rowCount6, other]\n",
    "    plt.pie(values, labels=labels, shadow = True, explode = (0.1, 0.1, 0.1, 0.1))\n",
    "    plt.legend(['60','58','1','other'], loc='lower center', fontsize='small')\n",
    "    plt.show()"
   ]
  },
  {
   "cell_type": "code",
   "execution_count": 70,
   "id": "b139eebb",
   "metadata": {},
   "outputs": [],
   "source": [
    "#Dwa najczęściej występujące numery 'rowCount' pojawiły się w styczniu. \n",
    "#Największa ilość numerów 'rowCount' występuje jednego miesiąca tylko raz (58.12%)"
   ]
  },
  {
   "cell_type": "code",
   "execution_count": 71,
   "id": "c3116041",
   "metadata": {},
   "outputs": [
    {
     "name": "stdout",
     "output_type": "stream",
     "text": [
      "Top 5 najczęsciej występujących numerów 'rowCount' w ciągu miesiąca: \n",
      "rowCount   probingTimestamp\n",
      "318665910  2020/01             3951\n",
      "317651677  2020/01             2831\n",
      "285498466  2020/03             1380\n",
      "325841983  2020/02             1337\n",
      "289503125  2020/04              520\n",
      "dtype: int64\n",
      "Ilość numerów 'rowCount' występujących w ciągu miesiąca w przedziale 1000+: 4\n",
      "Ilość numerów 'rowCount' występujących w ciągu miesiąca w przedziale (60-1000): 52\n",
      "Ilość numerów 'rowCount' występujących w ciągu miesiąca 60 razy: 1031\n",
      "Ilość numerów 'rowCount' występujących w ciągu miesiąca 58 razy: 1069\n",
      "Ilość numerów 'rowCount' występujących w ciągu miesiąca w przedziale (1-58) oraz 59: 615\n",
      "Ilość numerów 'rowCount' występujacych w ciągu miesiąca tylko raz: 3845\n"
     ]
    },
    {
     "data": {
      "image/png": "[encoded data removed]",
      "text/plain": [
       "<Figure size 432x288 with 1 Axes>"
      ]
     },
     "metadata": {},
     "output_type": "display_data"
    }
   ],
   "source": [
    "rowCount_segmentation_per_month()"
   ]
  },
  {
   "cell_type": "markdown",
   "id": "7745e894",
   "metadata": {},
   "source": [
    "# Problem 1- Funkcja"
   ]
  },
  {
   "cell_type": "code",
   "execution_count": 72,
   "id": "0b10dc37-a554-499c-99f3-aab8ebe5e3a0",
   "metadata": {},
   "outputs": [],
   "source": [
    "def problem_1(df):\n",
    "    if len(df.columns)<3:\n",
    "        print(\"Zaimportowana została jedna kolumna. Jeżeli powinno być inaczej, sprawdź delimiter przy importowaniu\")\n",
    "    else:\n",
    "        print(\"Liczba kolumn: \" + str(len(df.columns)))\n",
    "    "
   ]
  },
  {
   "cell_type": "markdown",
   "id": "47d3fbb7",
   "metadata": {},
   "source": [
    "# Problem 2- Funkcja"
   ]
  },
  {
   "cell_type": "code",
   "execution_count": 73,
   "id": "851f0f5b",
   "metadata": {},
   "outputs": [],
   "source": [
    "def problem_2(df):\n",
    "    if 'probingTimestamp' in df.columns:\n",
    "        if df['probingTimestamp'].dtypes == 'datetime64[ns]':\n",
    "            print(\"Kolumna 'probingTimestamp' ma poprawny typ daty('datetime64[ns]')\")\n",
    "        else:\n",
    "            print(\"Kolumna 'probingTimestamp' powinna mieć typ danych: data\\nSprawdź parse_dates przy importowaniu\")\n",
    "    else:\n",
    "        print(\"Brak kolumny 'probingTimestamp'\")"
   ]
  },
  {
   "cell_type": "markdown",
   "id": "9d60a660",
   "metadata": {},
   "source": [
    "# Problem 3- Funkcja"
   ]
  },
  {
   "cell_type": "code",
   "execution_count": 74,
   "id": "91bb3d01",
   "metadata": {},
   "outputs": [],
   "source": [
    "def problem_3(df):\n",
    "    for columns in df.columns:\n",
    "        if df[columns].nunique() == 1:\n",
    "            print(\"Wartość w kolumnie '\" + columns + \"' jest jednakowa dla wszystkich wierszy \\nW celu optymalizacji można usunąć kolumnę komendą: \\ndf.drop(columns = ['\" + columns + \"'], inplace = True)\\n\")\n",
    "        else:\n",
    "            print(\"Kolumna '\" + columns + \"' posiada \" + str(df[columns].nunique()) + \" unikalnych wartości\")   "
   ]
  },
  {
   "cell_type": "markdown",
   "id": "ba771cdd",
   "metadata": {},
   "source": [
    "# Problem 4- Funkcja "
   ]
  },
  {
   "cell_type": "code",
   "execution_count": 75,
   "id": "78430e83",
   "metadata": {},
   "outputs": [],
   "source": [
    "def problem_4(df):\n",
    "    if df.duplicated().sum() > 0:\n",
    "        print(df[df.duplicated(keep = 'first')])\n",
    "        print(\"Baza danych posiada \" + str(df.duplicated().sum()) + \" duplikaty\\nW celu pozbycia się duplikatów użyj komendy:\\ndf.drop_duplicates(keep = 'first', inplace = True)\")\n",
    "    else:\n",
    "        print(\"Baza danych nie posiada duplikatów\")"
   ]
  },
  {
   "cell_type": "code",
   "execution_count": 76,
   "id": "cb31712d",
   "metadata": {},
   "outputs": [],
   "source": [
    "#Sprawdzenie funkcji. Wczytanie bazy"
   ]
  },
  {
   "cell_type": "code",
   "execution_count": 77,
   "id": "142a0fc1",
   "metadata": {},
   "outputs": [],
   "source": [
    "df = pd.read_csv('BCL_TaskCreation.csv')"
   ]
  },
  {
   "cell_type": "code",
   "execution_count": 78,
   "id": "bed74599",
   "metadata": {},
   "outputs": [
    {
     "name": "stdout",
     "output_type": "stream",
     "text": [
      "Zaimportowana została jedna kolumna. Jeżeli powinno być inaczej, sprawdź delimiter przy importowaniu\n"
     ]
    }
   ],
   "source": [
    "problem_1(df)"
   ]
  },
  {
   "cell_type": "code",
   "execution_count": 79,
   "id": "4e3bc275",
   "metadata": {},
   "outputs": [],
   "source": [
    "#Wczytanie bazy z delimiterem"
   ]
  },
  {
   "cell_type": "code",
   "execution_count": 80,
   "id": "83fe49a2",
   "metadata": {},
   "outputs": [],
   "source": [
    "df = pd.read_csv(\"BCL_TaskCreation.csv\", delimiter=\";\")"
   ]
  },
  {
   "cell_type": "code",
   "execution_count": 81,
   "id": "5305980f",
   "metadata": {},
   "outputs": [],
   "source": [
    "#Ponowne sprawdzenie problemu 1"
   ]
  },
  {
   "cell_type": "code",
   "execution_count": 82,
   "id": "a963e488",
   "metadata": {},
   "outputs": [
    {
     "name": "stdout",
     "output_type": "stream",
     "text": [
      "Liczba kolumn: 3\n"
     ]
    }
   ],
   "source": [
    "problem_1(df)"
   ]
  },
  {
   "cell_type": "code",
   "execution_count": 83,
   "id": "9ff33a7d",
   "metadata": {},
   "outputs": [
    {
     "name": "stdout",
     "output_type": "stream",
     "text": [
      "Kolumna 'probingTimestamp' powinna mieć typ danych: data\n",
      "Sprawdź parse_dates przy importowaniu\n"
     ]
    }
   ],
   "source": [
    "problem_2(df)"
   ]
  },
  {
   "cell_type": "code",
   "execution_count": 84,
   "id": "56c8ad93",
   "metadata": {},
   "outputs": [],
   "source": [
    "#Wczytanie bazy z parse_dates"
   ]
  },
  {
   "cell_type": "code",
   "execution_count": 85,
   "id": "f804f329",
   "metadata": {},
   "outputs": [],
   "source": [
    "df = pd.read_csv('BCL_TaskCreation.csv', delimiter = ';',parse_dates = ['probingTimestamp'])"
   ]
  },
  {
   "cell_type": "code",
   "execution_count": 86,
   "id": "7ba0eebf",
   "metadata": {},
   "outputs": [],
   "source": [
    "#Ponowne sprawdzenie problemu 2"
   ]
  },
  {
   "cell_type": "code",
   "execution_count": 87,
   "id": "4f52f751",
   "metadata": {},
   "outputs": [
    {
     "name": "stdout",
     "output_type": "stream",
     "text": [
      "Kolumna 'probingTimestamp' ma poprawny typ daty('datetime64[ns]')\n"
     ]
    }
   ],
   "source": [
    "problem_2(df)"
   ]
  },
  {
   "cell_type": "code",
   "execution_count": 88,
   "id": "0f20af38",
   "metadata": {},
   "outputs": [
    {
     "name": "stdout",
     "output_type": "stream",
     "text": [
      "Wartość w kolumnie 'dataStream' jest jednakowa dla wszystkich wierszy \n",
      "W celu optymalizacji można usunąć kolumnę komendą: \n",
      "df.drop(columns = ['dataStream'], inplace = True)\n",
      "\n",
      "Kolumna 'rowCount' posiada 6612 unikalnych wartości\n",
      "Kolumna 'probingTimestamp' posiada 160513 unikalnych wartości\n"
     ]
    }
   ],
   "source": [
    "problem_3(df)"
   ]
  },
  {
   "cell_type": "code",
   "execution_count": 89,
   "id": "30063ddc",
   "metadata": {},
   "outputs": [],
   "source": [
    "#Usunięcie kolumny 'dataStream'"
   ]
  },
  {
   "cell_type": "code",
   "execution_count": 90,
   "id": "609bedae",
   "metadata": {},
   "outputs": [],
   "source": [
    "df.drop(columns = ['dataStream'], inplace = True)"
   ]
  },
  {
   "cell_type": "code",
   "execution_count": 91,
   "id": "a586fe93",
   "metadata": {},
   "outputs": [],
   "source": [
    "#Ponowne sprawdzenie problemu 3"
   ]
  },
  {
   "cell_type": "code",
   "execution_count": 92,
   "id": "d6aa7d9a",
   "metadata": {},
   "outputs": [
    {
     "name": "stdout",
     "output_type": "stream",
     "text": [
      "Kolumna 'rowCount' posiada 6612 unikalnych wartości\n",
      "Kolumna 'probingTimestamp' posiada 160513 unikalnych wartości\n"
     ]
    }
   ],
   "source": [
    "problem_3(df)"
   ]
  },
  {
   "cell_type": "code",
   "execution_count": 93,
   "id": "de0cd7f3",
   "metadata": {},
   "outputs": [
    {
     "name": "stdout",
     "output_type": "stream",
     "text": [
      "         rowCount        probingTimestamp\n",
      "8733    317606524 2020-01-16 12:26:01.040\n",
      "8947    317582568 2020-01-16 11:19:00.257\n",
      "20515   320921727 2020-01-23 13:08:01.017\n",
      "37395   326576573 2020-02-05 07:46:00.163\n",
      "37568   326964763 2020-02-05 20:00:00.133\n",
      "...           ...                     ...\n",
      "156341  289690106 2020-04-29 08:02:00.363\n",
      "156948  289692753 2020-04-29 16:02:00.187\n",
      "157612  289694331 2020-04-30 00:01:00.480\n",
      "157947  289695919 2020-04-30 12:01:00.320\n",
      "160541  289702842 2020-05-02 04:02:00.040\n",
      "\n",
      "[222 rows x 2 columns]\n",
      "Baza danych posiada 222 duplikaty\n",
      "W celu pozbycia się duplikatów użyj komendy:\n",
      "df.drop_duplicates(keep = 'first', inplace = True)\n"
     ]
    }
   ],
   "source": [
    "problem_4(df)"
   ]
  },
  {
   "cell_type": "code",
   "execution_count": 94,
   "id": "e297276f",
   "metadata": {},
   "outputs": [],
   "source": [
    "#Usunięcie duplikatów"
   ]
  },
  {
   "cell_type": "code",
   "execution_count": 95,
   "id": "099f1a0e",
   "metadata": {},
   "outputs": [],
   "source": [
    "df.drop_duplicates(keep = 'first', inplace = True)"
   ]
  },
  {
   "cell_type": "code",
   "execution_count": 96,
   "id": "7db9aebc",
   "metadata": {},
   "outputs": [],
   "source": [
    "#Ponowne sprawdzenie problemu 4"
   ]
  },
  {
   "cell_type": "code",
   "execution_count": 97,
   "id": "757d35c0",
   "metadata": {},
   "outputs": [
    {
     "name": "stdout",
     "output_type": "stream",
     "text": [
      "Baza danych nie posiada duplikatów\n"
     ]
    }
   ],
   "source": [
    "problem_4(df)"
   ]
  }
 ],
 "metadata": {
  "kernelspec": {
   "display_name": "Python 3 (ipykernel)",
   "language": "python",
   "name": "python3"
  },
  "language_info": {
   "codemirror_mode": {
    "name": "ipython",
    "version": 3
   },
   "file_extension": ".py",
   "mimetype": "text/x-python",
   "name": "python",
   "nbconvert_exporter": "python",
   "pygments_lexer": "ipython3",
   "version": "3.9.7"
  }
 },
 "nbformat": 4,
 "nbformat_minor": 5
}
